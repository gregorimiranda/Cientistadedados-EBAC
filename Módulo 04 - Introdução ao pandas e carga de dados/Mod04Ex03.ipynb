{
  "cells": [
    {
      "attachments": {},
      "cell_type": "markdown",
      "metadata": {
        "id": "77Z_ogAPQO91"
      },
      "source": [
        "# Tarefa 03\n",
        "\n",
        "- Leia os enunciados com atenção\n",
        "- Saiba que pode haver mais de uma resposta correta\n",
        "- Insira novas células de código sempre que achar necessário\n",
        "- Em caso de dúvidas, procure os Tutores\n",
        "- Divirta-se :)"
      ]
    },
    {
      "cell_type": "code",
      "execution_count": 133,
      "metadata": {
        "id": "ttgqd1kcQO-H"
      },
      "outputs": [],
      "source": [
        "import pandas as pd\n",
        "import requests"
      ]
    },
    {
      "attachments": {},
      "cell_type": "markdown",
      "metadata": {
        "id": "_JaWq9sJQO-M"
      },
      "source": [
        "####  1) Lendo de APIs\n",
        "Vimos em aula como carregar dados públicos do governo através de um API (*Application Programming Interface*). No exemplo de aula, baixamos os dados de pedidos de verificação de limites (PVL) realizados por estados, e selecionamos apenas aqueles referentes ao estado de São Paulo.\n",
        "\n",
        "1. Repita os mesmos passos feitos em aula, mas selecione os PVLs realizados por municípios no estado do Rio de Janeiro.\n",
        "2. Quais são os três *status* das solicitações mais frequentes na base? Quais são suas frequências?\n",
        "3. Construa uma nova variável que contenha o ano do **status**. Observe que ```data_status``` vem como tipo *object* no **DataFrame**. Dica: você pode usar o método ```.str``` para transformar o tipo da variável em string, em seguida um método como [**slice()**](https://pandas.pydata.org/docs/reference/api/pandas.Series.str.slice.html) ou [**split()**](https://pandas.pydata.org/pandas-docs/stable/reference/api/pandas.Series.str.split.html).\n",
        "4. Indique a frequência de cada ano do campo construído no item (3)."
      ]
    },
    {
      "cell_type": "code",
      "execution_count": 134,
      "metadata": {
        "colab": {
          "base_uri": "https://localhost:8080/",
          "height": 675
        },
        "id": "4BWPXVdFQO-P",
        "outputId": "2fbade14-6bdc-4e78-c5c1-74c78c727dc9"
      },
      "outputs": [],
      "source": [
        "# Realizamos uma solicitação GET para a API do Tesouro Nacional a fim de obter os dados dos municípios\n",
        "\n",
        "url = 'https://apidatalake.tesouro.gov.br/ords/sadipem/tt/pvl?uf=RJ&tipo_interessado=Munic%C3%ADpio'\n",
        "r = requests.get(url, timeout=120)"
      ]
    },
    {
      "cell_type": "code",
      "execution_count": 135,
      "metadata": {},
      "outputs": [
        {
          "data": {
            "text/plain": [
              "200"
            ]
          },
          "execution_count": 135,
          "metadata": {},
          "output_type": "execute_result"
        }
      ],
      "source": [
        "# Obtemos o código de status da resposta da requisição\n",
        "\n",
        "r.status_code"
      ]
    },
    {
      "cell_type": "code",
      "execution_count": 136,
      "metadata": {
        "id": "_AItLQeOReVb"
      },
      "outputs": [],
      "source": [
        "# Convertemos a resposta da requisição para JSON\n",
        "\n",
        "data_json = r.json()"
      ]
    },
    {
      "cell_type": "code",
      "execution_count": 137,
      "metadata": {
        "id": "ZKYkz7AyRwmI"
      },
      "outputs": [],
      "source": [
        "# Criamos um DataFrame a partir dos dados da chave 'items' do JSON\n",
        "# Filtramos os dados do DataFrame para selecionar apenas os registros relacionados aos municípios do estado do Rio de Janeiro\n",
        "\n",
        "df = pd.DataFrame(data_json['items'])\n",
        "rio = df[(df['tipo_interessado'] == 'Município') & (df['uf'] == 'RJ')]"
      ]
    },
    {
      "cell_type": "code",
      "execution_count": 138,
      "metadata": {
        "id": "j7Llg88XQO-R"
      },
      "outputs": [
        {
          "name": "stdout",
          "output_type": "stream",
          "text": [
            "status\n",
            "Deferido        96\n",
            "Arquivado       53\n",
            "Regularizado    26\n",
            "Name: count, dtype: int64\n"
          ]
        }
      ],
      "source": [
        "# 2) \n",
        "# Contamos e seleciona os 3 principais valores da coluna 'status' no DataFrame 'rio'\n",
        "# Imprimos os 3 principais valores e suas contagens\n",
        "\n",
        "top3_status = rio['status'].value_counts().head(3)\n",
        "print(top3_status)"
      ]
    },
    {
      "cell_type": "code",
      "execution_count": 139,
      "metadata": {
        "id": "B5wbhQkpQO-T"
      },
      "outputs": [],
      "source": [
        "# 3) \n",
        "# Extraimos o ano da coluna 'data_status' e adiciona como uma nova coluna 'ano_status' no DataFrame 'rio'\n",
        "\n",
        "rio['ano_status'] = rio['data_status'].str.slice(-4)"
      ]
    },
    {
      "cell_type": "code",
      "execution_count": 140,
      "metadata": {},
      "outputs": [
        {
          "name": "stdout",
          "output_type": "stream",
          "text": [
            "ano_status\n",
            "2008    37\n",
            "2007    29\n",
            "2014    20\n",
            "2010    19\n",
            "2019    17\n",
            "2013    15\n",
            "2020    15\n",
            "2012    13\n",
            "2022    11\n",
            "2023    11\n",
            "2011    10\n",
            "2009     9\n",
            "2015     8\n",
            "2017     5\n",
            "2021     5\n",
            "2016     4\n",
            "2006     4\n",
            "2018     4\n",
            "2002     4\n",
            "2004     1\n",
            "2003     1\n",
            "Name: count, dtype: int64\n"
          ]
        }
      ],
      "source": [
        "# 4) \n",
        "# Calculamos a contagem de frequência dos anos presentes na coluna 'ano_status' do DataFrame 'rio'\n",
        "# Imprimos a contagem de frequência dos anos\n",
        "\n",
        "frequencia_ano = rio['ano_status'].value_counts()\n",
        "print(frequencia_ano)\n"
      ]
    },
    {
      "attachments": {},
      "cell_type": "markdown",
      "metadata": {
        "id": "5I_0d5YbQO-V"
      },
      "source": [
        "####  2) Melhorando a interação com o API\n",
        "Observe dois URLs de consultas diferentes, por exemplo o URL utilizado em aula, e o URL feito no exercício anterior. Compare-os e observe as diferenças.\n",
        "\n",
        "1. Faça uma função em Python que recebe como argumento o UF da consulta e o tipo de interessado (```'Estado'```ou ```Município```), e que devolve os dados da consulta no formato *DataFrame*.\n",
        "2. Quantas solicitações para o Estado podem ser consultadas para Minas Gerais com *status* em 'Arquivado por decurso de prazo' estão registradas?\n",
        "3. Qual é o município da Bahia com mais solicitações deferidas?\n",
        "4. Salve um arquivo .csv com os dados de solicitações da Bahia, com interessado = 'Estado'"
      ]
    },
    {
      "cell_type": "code",
      "execution_count": 141,
      "metadata": {
        "id": "oHtYpLCDQO-X"
      },
      "outputs": [],
      "source": [
        "#1) \n",
        "# Construimos a URL da consulta com base nos parâmetros UF e tipo_interessado\n",
        "# Fazemos uma solicitação GET à API utilizando a URL\n",
        "# Verificamos se houve algum erro na resposta\n",
        "# Convertemos o JSON retornado para um DataFrame \n",
        "# Utilizamos a chave 'items' do JSON, se existir, caso contrário retorna uma lista vazia\n",
        "\n",
        "def consulta(uf, tipo_interessado):\n",
        "    url = f'https://apidatalake.tesouro.gov.br/ords/sadipem/tt/pvl?uf={uf}&tipo_interessado={tipo_interessado}'\n",
        "    resposta = requests.get(url, timeout=120)\n",
        "    resposta.raise_for_status()\n",
        "    return pd.DataFrame(resposta.json().get('items', []))\n"
      ]
    },
    {
      "cell_type": "code",
      "execution_count": 142,
      "metadata": {
        "id": "-H-C-I0_QO-a"
      },
      "outputs": [
        {
          "name": "stdout",
          "output_type": "stream",
          "text": [
            "1\n"
          ]
        }
      ],
      "source": [
        "# 2) \n",
        "# Realizamos uma consulta para o estado de Minas Gerais com interessado igual a 'Estado'\n",
        "# Filtramos o DataFrame para selecionar as solicitações com status igual a 'Arquivado por decurso de prazo'\n",
        "# Obtemos o número de solicitações arquivadas contando o número de linhas no DataFrame filtrado\n",
        "# Imprimimos o número de solicitações arquivadas para o estado de Minas Gerais\n",
        "\n",
        "minas = consulta('MG', 'Estado')\n",
        "solicitacoes = minas[minas['status'] == 'Arquivado por decurso de prazo'].shape[0]\n",
        "print(solicitacoes)\n"
      ]
    },
    {
      "cell_type": "code",
      "execution_count": 143,
      "metadata": {
        "id": "rtMHHHMyQO-d"
      },
      "outputs": [
        {
          "name": "stdout",
          "output_type": "stream",
          "text": [
            "O município da Bahia com mais solicitações deferidas é: Luís Eduardo Magalhães\n"
          ]
        }
      ],
      "source": [
        "# 3) \n",
        "# Realizamos uma consulta para os municípios da Bahia com interessado igual a 'Município'\n",
        "# Filtramos o DataFrame para selecionar somente os registros com UF igual a 'BA'\n",
        "# Verificamos se há solicitações deferidas no DataFrame filtrado\n",
        "# Filtramos o DataFrame para selecionar somente os registros com status igual a 'Deferido'\n",
        "# Obtemos o município com mais solicitações deferidas\n",
        "\n",
        "bahia_municipio = consulta('BA', 'Município')\n",
        "bahia_municipio = bahia_municipio[bahia_municipio['uf'] == 'BA']\n",
        "\n",
        "if 'Deferido' in bahia_municipio['status'].values:\n",
        "    municipio_deferido = bahia_municipio[bahia_municipio['status'] == 'Deferido']['interessado'].value_counts().idxmax()\n",
        "    print('O município da Bahia com mais solicitações deferidas é:', municipio_deferido)\n",
        "else:\n",
        "    print('Não há solicitações deferidas para municípios da Bahia.')\n"
      ]
    },
    {
      "cell_type": "code",
      "execution_count": 144,
      "metadata": {
        "id": "2rBkeA_2QO-f"
      },
      "outputs": [
        {
          "name": "stdout",
          "output_type": "stream",
          "text": [
            "    id_pleito tipo_interessado interessado  cod_ibge  uf  \\\n",
            "0       10431           Estado       Bahia        29  BA   \n",
            "1       42037           Estado       Bahia        29  BA   \n",
            "2       60782           Estado       Bahia        29  BA   \n",
            "3       64270           Estado       Bahia        29  BA   \n",
            "4       18495           Estado       Bahia        29  BA   \n",
            "..        ...              ...         ...       ...  ..   \n",
            "79      18476           Estado       Bahia        29  BA   \n",
            "80      18503           Estado       Bahia        29  BA   \n",
            "81      18499           Estado       Bahia        29  BA   \n",
            "82      18507           Estado       Bahia        29  BA   \n",
            "83      18523           Estado       Bahia        29  BA   \n",
            "\n",
            "                 num_pvl                                             status  \\\n",
            "0                   None  Encaminhado à PGFN com manifestação técnica fa...   \n",
            "1   PVL02.007745/2019-06                                           Deferido   \n",
            "2   PVL02.007004/2022-12                                           Deferido   \n",
            "3   PVL02.000163/2023-77  Encaminhado à PGFN com manifestação técnica fa...   \n",
            "4                   None                                           Deferido   \n",
            "..                   ...                                                ...   \n",
            "79                  None  Encaminhado à PGFN com manifestação técnica fa...   \n",
            "80                  None                                           Deferido   \n",
            "81                  None                                           Deferido   \n",
            "82                  None                                           Deferido   \n",
            "83                  None                                           Deferido   \n",
            "\n",
            "            num_processo        data_protocolo  \\\n",
            "0   17944.001198/2012-33  2013-07-04T03:00:00Z   \n",
            "1   17944.101173/2020-49  2020-03-24T20:42:47Z   \n",
            "2   17944.102769/2022-28  2022-07-14T13:15:21Z   \n",
            "3   17944.101777/2023-38  2023-05-22T19:52:46Z   \n",
            "4   19407.000035/2002-74  2002-06-26T03:00:00Z   \n",
            "..                   ...                   ...   \n",
            "79  19407.000030/2005-94  2005-12-30T02:00:00Z   \n",
            "80  19407.000037/2002-63  2002-06-11T03:00:00Z   \n",
            "81  19407.000036/2002-19  2002-06-26T03:00:00Z   \n",
            "82  19407.000038/2002-16  2002-06-20T03:00:00Z   \n",
            "83  19407.000042/2002-76  2002-06-21T03:00:00Z   \n",
            "\n",
            "                                        tipo_operacao  \\\n",
            "0   Operação contratual externa (com garantia da U...   \n",
            "1                         Operação contratual interna   \n",
            "2                         Operação contratual interna   \n",
            "3   Operação contratual interna (com garantia da U...   \n",
            "4                         Operação contratual interna   \n",
            "..                                                ...   \n",
            "79  Operação contratual externa (com garantia da U...   \n",
            "80                        Operação contratual interna   \n",
            "81                        Operação contratual interna   \n",
            "82                        Operação contratual interna   \n",
            "83                        Operação contratual interna   \n",
            "\n",
            "                             finalidade                           tipo_credor  \\\n",
            "0                        Multissetorial  Instituição Financeira Internacional   \n",
            "1                        Infraestrutura       Instituição Financeira Nacional   \n",
            "2                        Infraestrutura       Instituição Financeira Nacional   \n",
            "3                        Infraestrutura       Instituição Financeira Nacional   \n",
            "4   Preservação e recuperação ambiental       Instituição Financeira Nacional   \n",
            "..                                  ...                                   ...   \n",
            "79         Fortalecimento Institucional  Instituição Financeira Internacional   \n",
            "80                    Saneamento básico       Instituição Financeira Nacional   \n",
            "81                    Saneamento básico       Instituição Financeira Nacional   \n",
            "82                    Saneamento básico       Instituição Financeira Nacional   \n",
            "83                    Saneamento básico       Instituição Financeira Nacional   \n",
            "\n",
            "                                     credor          moeda         valor  \\\n",
            "0   Banco Interamericano de Desenvolvimento  Dólar dos EUA  5.082290e+07   \n",
            "1                       Banco do Brasil S/A           Real  2.500000e+08   \n",
            "2                     Banco de Brasília S/A           Real  2.000000e+08   \n",
            "3                       Banco do Brasil S/A           Real  1.272000e+09   \n",
            "4                   Caixa Econômica Federal           Real  3.688700e+07   \n",
            "..                                      ...            ...           ...   \n",
            "79  Banco Interamericano de Desenvolvimento  Dólar dos EUA  1.200000e+07   \n",
            "80                  Caixa Econômica Federal           Real  5.285441e+06   \n",
            "81                  Caixa Econômica Federal           Real  2.399000e+06   \n",
            "82                  Caixa Econômica Federal           Real  3.330000e+06   \n",
            "83                  Caixa Econômica Federal           Real  1.161000e+07   \n",
            "\n",
            "    pvl_assoc_divida  pvl_contradado_credor data_status  \n",
            "0                  1                      0  09/08/2013  \n",
            "1                  1                      1  25/03/2020  \n",
            "2                  0                      0  15/07/2022  \n",
            "3                  0                      0  30/05/2023  \n",
            "4                  1                      0  08/07/2002  \n",
            "..               ...                    ...         ...  \n",
            "79                 1                      0  04/07/2006  \n",
            "80                 1                      0  03/07/2002  \n",
            "81                 1                      0  03/07/2002  \n",
            "82                 1                      0  05/07/2002  \n",
            "83                 1                      0  05/07/2002  \n",
            "\n",
            "[84 rows x 18 columns]\n"
          ]
        }
      ],
      "source": [
        "# 4) \n",
        "# Realizamos uma consulta para o estado da Bahia com interessado igual a 'Estado'\n",
        "# Salvamos os dados do estado da Bahia em um arquivo CSV chamado 'solicitacoes_bahia.csv'\n",
        "# Imprimimos os dados do estado da Bahia\n",
        "\n",
        "bahia_estado = consulta('BA', 'Estado')\n",
        "bahia_estado.to_csv('solicitacoes_bahia.csv')\n",
        "print(bahia_estado)"
      ]
    }
  ],
  "metadata": {
    "colab": {
      "provenance": []
    },
    "kernelspec": {
      "display_name": "Python 3",
      "language": "python",
      "name": "python3"
    },
    "language_info": {
      "codemirror_mode": {
        "name": "ipython",
        "version": 3
      },
      "file_extension": ".py",
      "mimetype": "text/x-python",
      "name": "python",
      "nbconvert_exporter": "python",
      "pygments_lexer": "ipython3",
      "version": "3.11.4"
    }
  },
  "nbformat": 4,
  "nbformat_minor": 0
}
