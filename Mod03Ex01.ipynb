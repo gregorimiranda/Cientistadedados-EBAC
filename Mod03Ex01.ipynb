{
 "cells": [
  {
   "cell_type": "markdown",
   "metadata": {},
   "source": [
    "### 01 - Teste de gravidez\n",
    "Escreva uma célula com controle de fluxos que tem como premissa a existência das seguintes variáveis:\n",
    "\n",
    "- ```sexo``` como ```str``` indicando os valores '**M**' para masculino e '**F**' para feminino  \n",
    "- ```beta_hcg``` que indica a quantidade do beta-HCG no sangue em mUI/mL.\n",
    "\n",
    "A sua tarefa é escrever um código que imprima como resultado \"indivíduo do sexo masculino\" quando sexo = 'M', caso sexo = 'F', se o valor de beta-HCG for maior que 5, retorne \"Positivo\" indicando que a paciente está grávida, e retorne \"Negativo\" caso contrário.\n",
    "\n",
    "Não mexa nos valores da variável ```sexo``` nem em ```beta_hcg```, e escreva um código que funcione para quaisquer valores possíveis de ambos: ```sexo``` = '**M**' ou '**F**' e ```beta_hcg``` assumindo valores inteiros positivos."
   ]
  },
  {
   "cell_type": "code",
   "execution_count": 1,
   "metadata": {},
   "outputs": [
    {
     "name": "stdout",
     "output_type": "stream",
     "text": [
      "Indivíduo do sexo masculino\n"
     ]
    }
   ],
   "source": [
    "sexo = 'M'\n",
    "beta_hcg = 0\n",
    "\n",
    "# seu código vem abaixo desta linha\n",
    "\n",
    "if sexo == 'M':\n",
    "    print(\"Indivíduo do sexo masculino\")\n",
    "elif sexo == 'F' and beta_hcg > 5:\n",
    "    print(\"Positivo\")\n",
    "else:\n",
    "    print(\"Negativo\")"
   ]
  },
  {
   "cell_type": "markdown",
   "metadata": {},
   "source": [
    "### 02 - Renomeando variáveis\n",
    "\n",
    "Vamos ver adiante que uma forma de renomear variáveis de um conjunto de dados é através de dicionários - o dicionário deve conter como chave o nome original, associando a cada chave um único valor (tipo *str*) que contenha o nome novo.\n",
    "\n",
    "A sua tarefa é escrever um dicionário que possa ser utilizado para traduzir as variáveis ```name``` (nome), ```age``` (idade) e ```income``` (renda). Ou seja, esse dicionário deve relacionar as chaves *name, age* e *income* às suas respectivas traduções."
   ]
  },
  {
   "cell_type": "code",
   "execution_count": 2,
   "metadata": {},
   "outputs": [
    {
     "name": "stdout",
     "output_type": "stream",
     "text": [
      "{'name': 'nome', 'age': 'idade', 'income': 'renda'}\n"
     ]
    }
   ],
   "source": [
    "dic_renomeacao = {'name' : 'nome' ,'age' : 'idade','income': 'renda'}\n",
    "print(dic_renomeacao)\n",
    "\n"
   ]
  },
  {
   "cell_type": "markdown",
   "metadata": {},
   "source": [
    "### 03 - É divisível?\n",
    "A sua tarefa é escrever um código que indique se um número ```N``` é divisível por um número P. Escreva um programa que faça essa verificação para quaisquer combinações de ```N``` e ```M``` e devolva uma mensagem indicativa no output."
   ]
  },
  {
   "cell_type": "code",
   "execution_count": 3,
   "metadata": {},
   "outputs": [
    {
     "name": "stdout",
     "output_type": "stream",
     "text": [
      "Não é possível gerar divisão por zero\n"
     ]
    }
   ],
   "source": [
    "N = 42\n",
    "M = 7\n",
    "P = 0\n",
    "#Seu código\n",
    "\n",
    "if P == 0:\n",
    "    print('Não é possível gerar divisão por zero')\n",
    "elif N % P == 0 and M % P == 0 : \n",
    "    print('Divisível')\n",
    "else:\n",
    "    print('Indivisível')\n"
   ]
  },
  {
   "cell_type": "markdown",
   "metadata": {},
   "source": [
    "### 04 - Números primos\n",
    "> Um número **N** é primo se e somente se é divisível por 1, -1, por **N** e por -**N**.  \n",
    "\n",
    "Escreva um script que verifica se ```N``` é um número primo, verificando se ```N``` é divisível por todos os números de ```1``` a ```N-1```. Você vai precisar usar alguma ferramenta de *loop* que você aprendeu para isto. No final, devolva uma mensagem no output indicando se o número é primo ou não."
   ]
  },
  {
   "cell_type": "code",
   "execution_count": 4,
   "metadata": {},
   "outputs": [
    {
     "name": "stdout",
     "output_type": "stream",
     "text": [
      "Não é um número primo\n"
     ]
    }
   ],
   "source": [
    "N = 49\n",
    "\n",
    "# seu código abaixo\n",
    "\n",
    "\n",
    "if N < 2:\n",
    "    print('Não é um número primo')\n",
    "else:\n",
    "    primo = True\n",
    "    for i in range(2, N):\n",
    "        if N % i == 0:\n",
    "            primo = False\n",
    "            break\n",
    "\n",
    "    if primo:\n",
    "        print('É um número primo')\n",
    "    else:\n",
    "        print('Não é um número primo')\n",
    "    "
   ]
  },
  {
   "cell_type": "markdown",
   "metadata": {},
   "source": [
    "### 05 - Desafio\n",
    "O algorítmo do exercício anterior não é o mais eficiente. O que você pode fazer para deixá-lo mais eficiente? Ou seja, executar menos comparações, portanto consumir menos tempo.\n",
    "1. Será que precisamos correr o loop até o final sempre?\n",
    "2. Será que precisamos mesmo verificar **todos** os números?\n",
    "3. Será que precisamos ir até N-1?\n",
    "\n",
    "Essas perguntas levam ao tipo de pensamento voltado a deixar um algoritmo mais eficiente. Veja se você consegue melhorar o seu."
   ]
  },
  {
   "cell_type": "code",
   "execution_count": 6,
   "metadata": {},
   "outputs": [
    {
     "name": "stdout",
     "output_type": "stream",
     "text": [
      "É um número primo\n"
     ]
    }
   ],
   "source": [
    "N = 11\n",
    "\n",
    "primo = N > 1 and all(N % i != 0 for i in range(2, int(N**0.5) + 1))\n",
    "\n",
    "if primo:\n",
    "    print('É um número primo')\n",
    "else:\n",
    "    print('Não é um número primo')\n",
    "\n"
   ]
  },
  {
   "cell_type": "markdown",
   "metadata": {},
   "source": [
    "### 06 - Peso ideal 1\n",
    "O IMC (índice de massa corpórea) é um indicador de saúde mais bem aceito que o peso. Ele é calculado como:\n",
    "\n",
    "$$ IMC = \\dfrac{peso}{altura^2}$$\n",
    "\n",
    "Segundo a OMS, valores *normais* são entre 18.5 e 24.9.\n",
    "\n",
    "Sua tarefa é encontrar o ponto médio dessa faixa."
   ]
  },
  {
   "cell_type": "code",
   "execution_count": 11,
   "metadata": {},
   "outputs": [
    {
     "name": "stdout",
     "output_type": "stream",
     "text": [
      "21.7\n"
     ]
    }
   ],
   "source": [
    "imc_superior = 24.9 \n",
    "imc_inferior = 18.5\n",
    "\n",
    "ponto_medio = (imc_superior + imc_inferior) / 2 \n",
    "print(ponto_medio)"
   ]
  },
  {
   "cell_type": "markdown",
   "metadata": {},
   "source": [
    "### 07 - Peso ideal 2\n",
    "Recebendo um valor de altura, encontre o peso '*ideal*' dessa pessoa, que fornece o IMC encontrado acima"
   ]
  },
  {
   "cell_type": "code",
   "execution_count": 12,
   "metadata": {},
   "outputs": [
    {
     "name": "stdout",
     "output_type": "stream",
     "text": [
      "Acima do peso\n",
      "62.713\n"
     ]
    }
   ],
   "source": [
    "altura = 1.70\n",
    "\n",
    "# Seu código\n",
    "peso_ideal = ponto_medio * altura * altura\n",
    "imc = peso /(altura) ** 2\n",
    "if imc > ponto_medio:\n",
    "    print ('Acima do peso'),\n",
    "elif imc < ponto_medio:\n",
    "    print ('Abaixo do peso')\n",
    "elif imc == ponto_medio: \n",
    "    print ('Peso ideal')\n",
    "print(peso_ideal)"
   ]
  },
  {
   "cell_type": "markdown",
   "metadata": {},
   "source": [
    "### 08 - Peso ideal 3\n",
    "Dada uma lista contendo as alturas de pacientes, crie uma nova lista que contenha o peso '*ideal*' (que fornece o IMC calculado em **Peso ideal 1**) desses pacientes."
   ]
  },
  {
   "cell_type": "code",
   "execution_count": 13,
   "metadata": {},
   "outputs": [
    {
     "name": "stdout",
     "output_type": "stream",
     "text": [
      "[82.51424999999999, 91.19424999999998, 62.713, 59.07825]\n"
     ]
    }
   ],
   "source": [
    "lista_alturas = [1.95, 2.05, 1.70, 1.65]\n",
    "\n",
    "lista_peso_ideal = []\n",
    "\n",
    "# seu código\n",
    "\n",
    "\n",
    "ponto_medio = (18.5 + 24.9) / 2\n",
    "\n",
    "for altura in lista_alturas:\n",
    "    peso_ideal = ponto_medio * altura * altura\n",
    "    lista_peso_ideal.append(peso_ideal)\n",
    "\n",
    "print(lista_peso_ideal)"
   ]
  },
  {
   "cell_type": "markdown",
   "metadata": {},
   "source": [
    "### 09 - Peso ideal 4\n",
    "Dada uma lista de tuplas - cada elemento da lista é uma tupla contendo altura e peso de um paciente - crie uma nova lista com o IMC desses pacientes."
   ]
  },
  {
   "cell_type": "code",
   "execution_count": 14,
   "metadata": {},
   "outputs": [
    {
     "name": "stdout",
     "output_type": "stream",
     "text": [
      "[27.777777777777775, 27.548209366391188, 19.188070502453332]\n"
     ]
    }
   ],
   "source": [
    "altura_peso = [(1.80, 90), (1.65, 75), (1.91, 70)]\n",
    "\n",
    "imc = []\n",
    "\n",
    "# seu código\n",
    "\n",
    "for pessoa in altura_peso:\n",
    "    altura, peso = pessoa\n",
    "    calculadora_imc = peso / (altura ** 2)\n",
    "    imc.append(calculadora_imc)\n",
    "\n",
    "print(imc)"
   ]
  },
  {
   "cell_type": "markdown",
   "metadata": {},
   "source": [
    "### 10 - Peso ideal 5\n",
    "Dada uma lista de **listas** - cada elemento da lista é uma **lista** contendo altura e peso de um paciente, adicione mais um elemento à lista de cada paciente contendo o IMC do paciente. Verifique também se é 'baixo', 'normal' ou 'alto' segundo os padrões da OMS em que normal é entre 18.5 e 24.9.\n",
    "\n",
    "Reflexão: por que no problema anterior temos que criar uma nova lista, e não podemos adicionar os dados de cada indivíduo à tupla?"
   ]
  },
  {
   "cell_type": "code",
   "execution_count": 15,
   "metadata": {},
   "outputs": [
    {
     "name": "stdout",
     "output_type": "stream",
     "text": [
      "[[1.8, 90, 27.777777777777775, 'alto'], [1.65, 75, 27.548209366391188, 'alto'], [1.91, 70, 19.188070502453332, 'normal']]\n"
     ]
    }
   ],
   "source": [
    "altura_peso = [[1.80, 90], [1.65, 75], [1.91, 70]]\n",
    "\n",
    "# seu código\n",
    "\n",
    "for pessoa in altura_peso:\n",
    "    altura, peso = pessoa\n",
    "    imc = peso / (altura ** 2)\n",
    "    pessoa.append(imc)\n",
    "    \n",
    "    if imc < 18.5:\n",
    "        pessoa.append('baixo')\n",
    "    elif imc >= 18.5 and imc <= 24.9:\n",
    "        pessoa.append('normal')\n",
    "    else:\n",
    "        pessoa.append('alto')\n",
    "\n",
    "print(altura_peso)"
   ]
  },
  {
   "cell_type": "code",
   "execution_count": null,
   "metadata": {},
   "outputs": [],
   "source": []
  }
 ],
 "metadata": {
  "kernelspec": {
   "display_name": "Python 3 (ipykernel)",
   "language": "python",
   "name": "python3"
  },
  "language_info": {
   "codemirror_mode": {
    "name": "ipython",
    "version": 3
   },
   "file_extension": ".py",
   "mimetype": "text/x-python",
   "name": "python",
   "nbconvert_exporter": "python",
   "pygments_lexer": "ipython3",
   "version": "3.10.9"
  }
 },
 "nbformat": 4,
 "nbformat_minor": 4
}
