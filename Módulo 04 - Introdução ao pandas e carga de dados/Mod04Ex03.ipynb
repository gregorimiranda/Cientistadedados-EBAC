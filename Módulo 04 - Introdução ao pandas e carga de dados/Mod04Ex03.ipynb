{
  "cells": [
    {
      "attachments": {},
      "cell_type": "markdown",
      "metadata": {
        "id": "77Z_ogAPQO91"
      },
      "source": [
        "# Tarefa 03\n",
        "\n",
        "- Leia os enunciados com atenção\n",
        "- Saiba que pode haver mais de uma resposta correta\n",
        "- Insira novas células de código sempre que achar necessário\n",
        "- Em caso de dúvidas, procure os Tutores\n",
        "- Divirta-se :)"
      ]
    },
    {
      "cell_type": "code",
      "execution_count": null,
      "metadata": {
        "id": "ttgqd1kcQO-H"
      },
      "outputs": [],
      "source": [
        "import pandas as pd\n",
        "import requests"
      ]
    },
    {
      "attachments": {},
      "cell_type": "markdown",
      "metadata": {
        "id": "_JaWq9sJQO-M"
      },
      "source": [
        "####  1) Lendo de APIs\n",
        "Vimos em aula como carregar dados públicos do governo através de um API (*Application Programming Interface*). No exemplo de aula, baixamos os dados de pedidos de verificação de limites (PVL) realizados por estados, e selecionamos apenas aqueles referentes ao estado de São Paulo.\n",
        "\n",
        "1. Repita os mesmos passos feitos em aula, mas selecione os PVLs realizados por municípios no estado do Rio de Janeiro.\n",
        "2. Quais são os três *status* das solicitações mais frequentes na base? Quais são suas frequências?\n",
        "3. Construa uma nova variável que contenha o ano do **status**. Observe que ```data_status``` vem como tipo *object* no **DataFrame**. Dica: você pode usar o método ```.str``` para transformar o tipo da variável em string, em seguida um método como [**slice()**](https://pandas.pydata.org/docs/reference/api/pandas.Series.str.slice.html) ou [**split()**](https://pandas.pydata.org/pandas-docs/stable/reference/api/pandas.Series.str.split.html).\n",
        "4. Indique a frequência de cada ano do campo construído no item (3)."
      ]
    },
    {
      "cell_type": "code",
      "execution_count": null,
      "metadata": {
        "colab": {
          "base_uri": "https://localhost:8080/",
          "height": 675
        },
        "id": "4BWPXVdFQO-P",
        "outputId": "2fbade14-6bdc-4e78-c5c1-74c78c727dc9"
      },
      "outputs": [],
      "source": [
        "url = 'https://apidatalake.tesouro.gov.br/ords/sadipem/tt/pvl?uf=RJ&tipo_interessado=Munic%C3%ADpio'\n",
        "r = requests.get(url, timeout=120)"
      ]
    },
    {
      "cell_type": "code",
      "execution_count": null,
      "metadata": {},
      "outputs": [],
      "source": [
        "r.status_code"
      ]
    },
    {
      "cell_type": "code",
      "execution_count": null,
      "metadata": {
        "id": "_AItLQeOReVb"
      },
      "outputs": [],
      "source": [
        "data_json = r.json()\n",
        "print(r.json())"
      ]
    },
    {
      "cell_type": "code",
      "execution_count": null,
      "metadata": {
        "id": "lx2qjC_oRpDn"
      },
      "outputs": [],
      "source": [
        "print(data_json['items'])"
      ]
    },
    {
      "cell_type": "code",
      "execution_count": null,
      "metadata": {
        "id": "ZKYkz7AyRwmI"
      },
      "outputs": [],
      "source": [
        "df = pd.DataFrame(data_json['items'])\n",
        "rio = df[(df['tipo_interessado'] == 'Município') & (df['uf'] == 'RJ')]"
      ]
    },
    {
      "cell_type": "code",
      "execution_count": null,
      "metadata": {
        "id": "j7Llg88XQO-R"
      },
      "outputs": [],
      "source": [
        "# 2) Seu código aqui\n",
        "top3_status = rio['status'].value_counts().head(3)\n",
        "print(top3_status)"
      ]
    },
    {
      "cell_type": "code",
      "execution_count": null,
      "metadata": {
        "id": "B5wbhQkpQO-T"
      },
      "outputs": [],
      "source": [
        "# 3) Construa uma nova variável que contenha o ano do **status**. \n",
        "# Observe que ```data_status``` vem como tipo *object* no **DataFrame**. \n",
        "# Dica: você pode usar o método ```.str``` para transformar o tipo da variável em string, em seguida um método como [**slice()**]\n",
        "# (https://pandas.pydata.org/docs/reference/api/pandas.Series.str.slice.html) \n",
        "# ou [**split()**](https://pandas.pydata.org/pandas-docs/stable/reference/api/pandas.Series.str.split.html).\n",
        "\n",
        "df_rio['ano_status'] = df_rio['data_status'].str.slice(-4)"
      ]
    },
    {
      "cell_type": "code",
      "execution_count": null,
      "metadata": {},
      "outputs": [],
      "source": [
        "# 4) Indique a frequência de cada ano do campo construído no item (3).\n",
        "\n",
        "frequencia_ano = df_rio['ano_status'].value_counts()\n",
        "print(frequencia_ano)\n"
      ]
    },
    {
      "attachments": {},
      "cell_type": "markdown",
      "metadata": {
        "id": "5I_0d5YbQO-V"
      },
      "source": [
        "####  2) Melhorando a interação com o API\n",
        "Observe dois URLs de consultas diferentes, por exemplo o URL utilizado em aula, e o URL feito no exercício anterior. Compare-os e observe as diferenças.\n",
        "\n",
        "1. Faça uma função em Python que recebe como argumento o UF da consulta e o tipo de interessado (```'Estado'```ou ```Município```), e que devolve os dados da consulta no formato *DataFrame*.\n",
        "2. Quantas solicitações para o Estado podem ser consultadas para Minas Gerais com *status* em 'Arquivado por decurso de prazo' estão registradas?\n",
        "3. Qual é o município da Bahia com mais solicitações deferidas?\n",
        "4. Salve um arquivo .csv com os dados de solicitações da Bahia, com interessado = 'Estado'"
      ]
    },
    {
      "cell_type": "code",
      "execution_count": null,
      "metadata": {
        "id": "oHtYpLCDQO-X"
      },
      "outputs": [],
      "source": [
        "#1) Seu código aqui\n",
        "\n",
        "def consulta(uf, tipo_interessado):\n",
        "    url = 'https://apidatalake.tesouro.gov.br/ords/sadipem/tt/pvl?uf=RJ&tipo_interessado=Munic%C3%ADpio'\n",
        "    r = requests.get(url, timeout=120)\n",
        "    data_json = r.json()\n",
        "    df = pd.DataFrame(data_json['items'])\n",
        "    return df "
      ]
    },
    {
      "cell_type": "code",
      "execution_count": null,
      "metadata": {
        "id": "-H-C-I0_QO-a"
      },
      "outputs": [],
      "source": [
        "# 2) Seu \n",
        "# \n",
        "df.consulta((df['Estado'] == 'MG'), df['Status'] == 'Arquivado por decurso de prazo')"
      ]
    },
    {
      "cell_type": "code",
      "execution_count": null,
      "metadata": {
        "id": "rtMHHHMyQO-d"
      },
      "outputs": [],
      "source": [
        "# 3) Seu código aqui"
      ]
    },
    {
      "cell_type": "code",
      "execution_count": null,
      "metadata": {
        "id": "2rBkeA_2QO-f"
      },
      "outputs": [],
      "source": [
        "# 4) Seu código aqui"
      ]
    }
  ],
  "metadata": {
    "colab": {
      "provenance": []
    },
    "kernelspec": {
      "display_name": "Python 3",
      "language": "python",
      "name": "python3"
    },
    "language_info": {
      "codemirror_mode": {
        "name": "ipython",
        "version": 3
      },
      "file_extension": ".py",
      "mimetype": "text/x-python",
      "name": "python",
      "nbconvert_exporter": "python",
      "pygments_lexer": "ipython3",
      "version": "3.11.4"
    }
  },
  "nbformat": 4,
  "nbformat_minor": 0
}
